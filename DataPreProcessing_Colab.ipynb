{
  "cells": [
    {
      "cell_type": "code",
      "execution_count": null,
      "metadata": {
        "id": "rJXQ1B6pPIpV"
      },
      "outputs": [],
      "source": [
        "# all required Imports\n",
        "import time\n",
        "import json\n",
        "import requests"
      ]
    },
    {
      "cell_type": "code",
      "execution_count": null,
      "metadata": {
        "id": "RS74w7n1DVRp"
      },
      "outputs": [],
      "source": [
        "# array where we are storing final result\n",
        "result = []"
      ]
    },
    {
      "cell_type": "code",
      "execution_count": null,
      "metadata": {
        "id": "q6E1Lg04Cu-m"
      },
      "outputs": [],
      "source": [
        "# update result with specific key and value\n",
        "def updateResult(key, value, data):\n",
        "  for college in data:\n",
        "    college[key] = value"
      ]
    },
    {
      "cell_type": "code",
      "execution_count": null,
      "metadata": {
        "id": "SFd62alzFA8c"
      },
      "outputs": [],
      "source": [
        "# Add location of every college in the list\n",
        "def addLocation(colleges):\n",
        "  api_key = \"<Google_API_key>\"\n",
        "  for college in colleges:\n",
        "    college_name = college[\"college_name\"]\n",
        "    time.sleep(1.5)\n",
        "    response = requests.get(f\"https://maps.googleapis.com/maps/api/geocode/json?address={college_name}&key={api_key}\")\n",
        "    data = response.json()\n",
        "\n",
        "    if data[\"status\"] == \"OK\":\n",
        "        # Extract the latitude and longitude from the first result\n",
        "        lat = data[\"results\"][0][\"geometry\"][\"location\"][\"lat\"]\n",
        "        lng = data[\"results\"][0][\"geometry\"][\"location\"][\"lng\"]\n",
        "        college['Cordinate'] = {'lat': lat, 'lng': lng}\n",
        "        result.append(college)\n",
        "        print(f\"{college_name}: ({lat}, {lng})\")\n",
        "        print(data[\"results\"][0])\n",
        "    else:\n",
        "        college['Cordinate'] = {'lat': 0, 'lng': 0}\n",
        "        result.append(college)\n",
        "        print(f\"{college_name}: Unable to obtain location.\")\n",
        "\n",
        "  print(result)"
      ]
    },
    {
      "cell_type": "code",
      "execution_count": null,
      "metadata": {
        "id": "61_T3X2OOZEa"
      },
      "outputs": [],
      "source": [
        "# create output in output.js file\n",
        "def writeOutputOnfile(outputData):\n",
        "  # Write the JSON string to a file\n",
        "  json_string = json.dumps(outputData)\n",
        "  with open('/content/sample_data/output.json', 'w') as file:\n",
        "      file.write(json_string)"
      ]
    },
    {
      "cell_type": "code",
      "execution_count": null,
      "metadata": {
        "id": "8BCfhc5-6PLy"
      },
      "outputs": [],
      "source": [
        "# fetch data from zollege website to get row data and than pre process that to use in my application\n",
        "def make_api_request(modCollegeData, baseUrl):\n",
        "  for index, college in enumerate(modCollegeData):\n",
        "    clgDetailUrl = college[\"url\"]\n",
        "    college_name = college[\"college_name\"]\n",
        "    time.sleep(1.5)\n",
        "    response = requests.get(f\"{baseUrl}{clgDetailUrl}\")\n",
        "    data = response.json()\n",
        "\n",
        "    phone_no = data[\"basic_info\"][\"phone_no\"]\n",
        "    placement = data[\"college_facilities\"][\"placements\"] #[\"placement\"]\n",
        "    facility = data[\"college_facilities\"][\"facility\"]\n",
        "    faculty = data[\"faculty\"][\"faculty_list\"] if \"faculty_list\" in data[\"faculty\"] else data[\"faculty\"]\n",
        "    courses = data[\"course_data\"][\"courses\"] if \"courses\" in data[\"course_data\"] else data[\"course_data\"]\n",
        "\n",
        "    college[\"phone_no\"] = phone_no\n",
        "    college[\"placement\"] = placement\n",
        "    college[\"facility\"] = facility\n",
        "    college[\"faculty\"] = faculty\n",
        "    college[\"courses\"] = courses\n",
        "\n",
        "    print(205 - index)\n",
        "    print(college_name)\n",
        "    result.append(college)"
      ]
    },
    {
      "cell_type": "code",
      "execution_count": null,
      "metadata": {
        "id": "FWDH4_mGGtUH"
      },
      "outputs": [],
      "source": [
        "def StartPoint():\n",
        "  clgDetail = \"https://zollege.in/web-api/\"\n",
        "  # replace with your own API key # Replace YOUR_API_KEY with your actual API key from OpenCage Geocoder # geocoder = opencage.geocoder.OpenCageGeocode(\"36a32331c66f48b6b2240b71adf1d544\")\n",
        "\n",
        "  # List of college names and addresses\n",
        "  with open('/content/sample_data/affCol.json') as f:\n",
        "      data = json.load(f)\n",
        "\n",
        "  colleges = data\n",
        "\n",
        "  print(len(colleges))\n",
        "  result = []\n",
        "  make_api_request(colleges, clgDetail)\n",
        "  updateResult(\"University\", \"University of Mumbai\")\n",
        "  addLocation(result)\n",
        "  writeOutputOnfile(result)"
      ]
    },
    {
      "cell_type": "code",
      "execution_count": null,
      "metadata": {
        "id": "3zMIQHwSR8Uc"
      },
      "outputs": [],
      "source": [
        "def existingResultUpdateWithLocationAndGenarateOutput():\n",
        "  # replace with your own API key # Replace YOUR_API_KEY with your actual API key from OpenCage Geocoder # geocoder = opencage.geocoder.OpenCageGeocode(\"36a32331c66f48b6b2240b71adf1d544\")\n",
        "\n",
        "  # List of college names and addresses\n",
        "  with open('/content/sample_data/affCol.js', 'r') as f:\n",
        "      # contents = f.read().replace('var data = ', '')\n",
        "  print(contents)\n",
        "  # result = []\n",
        "  # updateResult(\"University\", \"University of Mumbai\", col)\n",
        "  # print(col[0][\"University\"])\n",
        "  # addLocation(col)\n",
        "  # writeOutputOnfile(result)\n",
        "  print(\"Hii\")"
      ]
    },
    {
      "cell_type": "code",
      "execution_count": null,
      "metadata": {
        "id": "UrU4ZeFPTEi9"
      },
      "outputs": [],
      "source": [
        "existingResultUpdateWithLocationAndGenarateOutput()"
      ]
    },
    {
      "cell_type": "code",
      "execution_count": null,
      "metadata": {
        "colab": {
          "base_uri": "https://localhost:8080/"
        },
        "id": "w9NnWty0u_dc",
        "outputId": "aa54045a-39e0-4d1b-b035-a64030543993"
      },
      "outputs": [
        {
          "name": "stdout",
          "output_type": "stream",
          "text": [
            "Ramniranjan JhunJhunwala college, Ghatkoper (west): (19.0869625, 72.9093963)\n",
            "{'address_components': [{'long_name': 'Ghatkopar West', 'short_name': 'Ghatkopar West', 'types': ['political', 'sublocality', 'sublocality_level_1']}, {'long_name': 'Shival Nagar', 'short_name': 'Shival Nagar', 'types': ['neighborhood', 'political']}, {'long_name': 'CGS Colony', 'short_name': 'CGS Colony', 'types': ['political', 'sublocality', 'sublocality_level_3']}, {'long_name': 'Mumbai', 'short_name': 'Mumbai', 'types': ['locality', 'political']}, {'long_name': 'Mumbai Suburban', 'short_name': 'Mumbai Suburban', 'types': ['administrative_area_level_3', 'political']}, {'long_name': 'Konkan Division', 'short_name': 'Konkan Division', 'types': ['administrative_area_level_2', 'political']}, {'long_name': 'Maharashtra', 'short_name': 'MH', 'types': ['administrative_area_level_1', 'political']}, {'long_name': 'India', 'short_name': 'IN', 'types': ['country', 'political']}, {'long_name': '400086', 'short_name': '400086', 'types': ['postal_code']}], 'formatted_address': 'Station Road Opposite Ghatkopar Railway Station, Shival Nagar, CGS Colony, Ghatkopar West, Mumbai, Maharashtra 400086, India', 'geometry': {'location': {'lat': 19.0869625, 'lng': 72.9093963}, 'location_type': 'GEOMETRIC_CENTER', 'viewport': {'northeast': {'lat': 19.0883641302915, 'lng': 72.9109538302915}, 'southwest': {'lat': 19.0856661697085, 'lng': 72.9082558697085}}}, 'partial_match': True, 'place_id': 'ChIJ0XqSRS3G5zsRvVbkghcw5J4', 'plus_code': {'compound_code': '3WP5+QQ Mumbai, Maharashtra, India', 'global_code': '7JFJ3WP5+QQ'}, 'types': ['establishment', 'point_of_interest', 'school', 'university']}\n",
            "[{'college_name': 'Ramniranjan JhunJhunwala college, Ghatkoper (west)', 'Cordinate': {'lat': 19.0869625, 'lng': 72.9093963}}, {'college_name': 'Ramniranjan JhunJhunwala college, Ghatkoper (west)', 'Cordinate': {'lat': 19.0869625, 'lng': 72.9093963}}]\n"
          ]
        }
      ],
      "source": [
        "collegeNames = [{\"college_name\": \"Ramniranjan JhunJhunwala college, Ghatkoper (west)\"}]\n",
        "addLocation(collegeNames)"
      ]
    }
  ],
  "metadata": {
    "accelerator": "GPU",
    "colab": {
      "machine_shape": "hm",
      "provenance": []
    },
    "kernelspec": {
      "display_name": "Python 3",
      "name": "python3"
    }
  },
  "nbformat": 4,
  "nbformat_minor": 0
}
